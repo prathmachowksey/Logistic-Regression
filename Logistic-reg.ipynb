{
 "cells": [
  {
   "cell_type": "code",
   "execution_count": 1,
   "metadata": {},
   "outputs": [],
   "source": [
    "#importing the required libraries\n",
    "import numpy as np\n",
    "import pandas as pd\n",
    "import matplotlib.pyplot as plt\n",
    "%matplotlib inline\n",
    "from sklearn.model_selection import train_test_split\n"
   ]
  },
  {
   "cell_type": "code",
   "execution_count": 2,
   "metadata": {},
   "outputs": [],
   "source": [
    "#function to predict the class of a test data point\n",
    "def predict(X, theta, threshold=0.5):\n",
    "    return (hypothesis(X, theta) >= threshold).astype(int)\n",
    "\n",
    "    "
   ]
  },
  {
   "cell_type": "code",
   "execution_count": 3,
   "metadata": {},
   "outputs": [],
   "source": [
    "#function to calculate accuracy of the classifier\n",
    "def accuracy(actual,predicted):\n",
    "    return np.mean((actual == predicted).astype(int))"
   ]
  },
  {
   "cell_type": "code",
   "execution_count": 4,
   "metadata": {},
   "outputs": [],
   "source": [
    "#function to calculate precision of the classifier\n",
    "def precision(actual, predicted):\n",
    "    TP = np.count_nonzero(np.logical_and((actual == 1) , (predicted ==1)).astype(int))\n",
    "    FP = np.count_nonzero(np.logical_and((actual == 0) , (predicted ==1)).astype(int))\n",
    "    return TP/(TP + FP)"
   ]
  },
  {
   "cell_type": "code",
   "execution_count": 5,
   "metadata": {},
   "outputs": [],
   "source": [
    "#function to calculate recall of the classifier\n",
    "def recall(actual, predicted):\n",
    "    TP = np.count_nonzero(np.logical_and((actual == 1) , (predicted ==1)).astype(int))\n",
    "    FN = np.count_nonzero(np.logical_and((actual == 1) , (predicted ==0)).astype(int))\n",
    "    return TP/(TP + FN)"
   ]
  },
  {
   "cell_type": "code",
   "execution_count": 6,
   "metadata": {},
   "outputs": [],
   "source": [
    "#function to calculate f-score of the classifier\n",
    "def f_score(actual , predicted):\n",
    "    P = precision(actual, predicted)\n",
    "    R = recall(actual, predicted)\n",
    "    return 2*P*R/(P + R)"
   ]
  },
  {
   "cell_type": "code",
   "execution_count": 7,
   "metadata": {},
   "outputs": [],
   "source": [
    "#function to calculate sigmoid\n",
    "def sigmoid(x):\n",
    "    return 1/(1 + np.exp(-x) )"
   ]
  },
  {
   "cell_type": "code",
   "execution_count": 8,
   "metadata": {},
   "outputs": [],
   "source": [
    "#hypothesis for logistic regression\n",
    "def hypothesis(X,theta):\n",
    "    return sigmoid(np.dot(X, theta))"
   ]
  },
  {
   "cell_type": "code",
   "execution_count": 9,
   "metadata": {},
   "outputs": [],
   "source": [
    "#binary cross entropy cost function\n",
    "def cost(X,y,theta):\n",
    "    h = hypothesis(X,theta)\n",
    "    return (-1/len(y))*(np.sum((y * np.log(h)) + (1-y)*np.log(1-h)))\n",
    "\n",
    "   "
   ]
  },
  {
   "cell_type": "code",
   "execution_count": 10,
   "metadata": {},
   "outputs": [],
   "source": [
    "#cost function for regularisation \n",
    "def cost_regularisation(X,y,theta,lambda_,norm='L1'):\n",
    "    cost_without_regularisation = cost(X,y,theta)\n",
    "    if norm=='L1':\n",
    "        # return binary cross entropy cost with added term for sum of absolute values of weights\n",
    "        return cost_without_regularisation + lambda_*(np.sum(np.absolute(theta)))\n",
    "    elif norm=='L2':\n",
    "        # return binary cross entropy cost with added term for sum of sqaures of weights\n",
    "        return cost_without_regularisation + 0.5*lambda_*(np.sum(np.square(theta)))"
   ]
  },
  {
   "cell_type": "code",
   "execution_count": 11,
   "metadata": {},
   "outputs": [],
   "source": [
    "#function to perform gradient descent for logistic regression (without regularisation)\n",
    "def gradient_descent(X,y,theta,learning_rate,iterations):\n",
    "    cost_history=np.zeros(iterations)\n",
    "    m=len(y)\n",
    "    for i in range(iterations):\n",
    "        gradient = (1/m)* np.dot(X.transpose(), (hypothesis(X,theta)- y))\n",
    "        #w=w-alpha*gradient\n",
    "        theta = theta - learning_rate*gradient\n",
    "        cost_history[i] = cost(X, y, theta)\n",
    "        \n",
    "    return theta,cost_history"
   ]
  },
  {
   "cell_type": "code",
   "execution_count": 12,
   "metadata": {},
   "outputs": [],
   "source": [
    "#function to perform gradient descent with regularisation\n",
    "def gradient_descent_regularisation(X,y,theta,learning_rate,iterations,lambda_, norm='L1'):\n",
    "    cost_history=np.zeros(iterations)\n",
    "    m=len(y)\n",
    "    for i in range(iterations):\n",
    "        gradient = ((1/m)* np.dot(X.transpose(), (hypothesis(X,theta)- y))) \n",
    "        if(norm=='L1'):\n",
    "            gradient+=lambda_*(np.sign(theta)) #signum function\n",
    "            \n",
    "        elif(norm=='L2'):\n",
    "            gradient+=lambda_*theta\n",
    "        #w=w-alpha*gradient\n",
    "        theta = theta - learning_rate*gradient\n",
    "        cost_history[i] = cost_regularisation(X, y, theta,lambda_,norm)\n",
    "        \n",
    "    return theta,cost_history\n",
    "    "
   ]
  },
  {
   "cell_type": "code",
   "execution_count": 13,
   "metadata": {},
   "outputs": [],
   "source": [
    "#load data\n",
    "data=pd.read_csv('./data_banknote_authentication.txt',names=['Variance', 'Skewness', 'Curtosis' , 'Entropy', 'Class'])"
   ]
  },
  {
   "cell_type": "code",
   "execution_count": 14,
   "metadata": {},
   "outputs": [
    {
     "data": {
      "text/html": [
       "<div>\n",
       "<style scoped>\n",
       "    .dataframe tbody tr th:only-of-type {\n",
       "        vertical-align: middle;\n",
       "    }\n",
       "\n",
       "    .dataframe tbody tr th {\n",
       "        vertical-align: top;\n",
       "    }\n",
       "\n",
       "    .dataframe thead th {\n",
       "        text-align: right;\n",
       "    }\n",
       "</style>\n",
       "<table border=\"1\" class=\"dataframe\">\n",
       "  <thead>\n",
       "    <tr style=\"text-align: right;\">\n",
       "      <th></th>\n",
       "      <th>Variance</th>\n",
       "      <th>Skewness</th>\n",
       "      <th>Curtosis</th>\n",
       "      <th>Entropy</th>\n",
       "      <th>Class</th>\n",
       "    </tr>\n",
       "  </thead>\n",
       "  <tbody>\n",
       "    <tr>\n",
       "      <th>0</th>\n",
       "      <td>3.62160</td>\n",
       "      <td>8.66610</td>\n",
       "      <td>-2.8073</td>\n",
       "      <td>-0.44699</td>\n",
       "      <td>0</td>\n",
       "    </tr>\n",
       "    <tr>\n",
       "      <th>1</th>\n",
       "      <td>4.54590</td>\n",
       "      <td>8.16740</td>\n",
       "      <td>-2.4586</td>\n",
       "      <td>-1.46210</td>\n",
       "      <td>0</td>\n",
       "    </tr>\n",
       "    <tr>\n",
       "      <th>2</th>\n",
       "      <td>3.86600</td>\n",
       "      <td>-2.63830</td>\n",
       "      <td>1.9242</td>\n",
       "      <td>0.10645</td>\n",
       "      <td>0</td>\n",
       "    </tr>\n",
       "    <tr>\n",
       "      <th>3</th>\n",
       "      <td>3.45660</td>\n",
       "      <td>9.52280</td>\n",
       "      <td>-4.0112</td>\n",
       "      <td>-3.59440</td>\n",
       "      <td>0</td>\n",
       "    </tr>\n",
       "    <tr>\n",
       "      <th>4</th>\n",
       "      <td>0.32924</td>\n",
       "      <td>-4.45520</td>\n",
       "      <td>4.5718</td>\n",
       "      <td>-0.98880</td>\n",
       "      <td>0</td>\n",
       "    </tr>\n",
       "    <tr>\n",
       "      <th>...</th>\n",
       "      <td>...</td>\n",
       "      <td>...</td>\n",
       "      <td>...</td>\n",
       "      <td>...</td>\n",
       "      <td>...</td>\n",
       "    </tr>\n",
       "    <tr>\n",
       "      <th>1367</th>\n",
       "      <td>0.40614</td>\n",
       "      <td>1.34920</td>\n",
       "      <td>-1.4501</td>\n",
       "      <td>-0.55949</td>\n",
       "      <td>1</td>\n",
       "    </tr>\n",
       "    <tr>\n",
       "      <th>1368</th>\n",
       "      <td>-1.38870</td>\n",
       "      <td>-4.87730</td>\n",
       "      <td>6.4774</td>\n",
       "      <td>0.34179</td>\n",
       "      <td>1</td>\n",
       "    </tr>\n",
       "    <tr>\n",
       "      <th>1369</th>\n",
       "      <td>-3.75030</td>\n",
       "      <td>-13.45860</td>\n",
       "      <td>17.5932</td>\n",
       "      <td>-2.77710</td>\n",
       "      <td>1</td>\n",
       "    </tr>\n",
       "    <tr>\n",
       "      <th>1370</th>\n",
       "      <td>-3.56370</td>\n",
       "      <td>-8.38270</td>\n",
       "      <td>12.3930</td>\n",
       "      <td>-1.28230</td>\n",
       "      <td>1</td>\n",
       "    </tr>\n",
       "    <tr>\n",
       "      <th>1371</th>\n",
       "      <td>-2.54190</td>\n",
       "      <td>-0.65804</td>\n",
       "      <td>2.6842</td>\n",
       "      <td>1.19520</td>\n",
       "      <td>1</td>\n",
       "    </tr>\n",
       "  </tbody>\n",
       "</table>\n",
       "<p>1372 rows × 5 columns</p>\n",
       "</div>"
      ],
      "text/plain": [
       "      Variance  Skewness  Curtosis  Entropy  Class\n",
       "0      3.62160   8.66610   -2.8073 -0.44699      0\n",
       "1      4.54590   8.16740   -2.4586 -1.46210      0\n",
       "2      3.86600  -2.63830    1.9242  0.10645      0\n",
       "3      3.45660   9.52280   -4.0112 -3.59440      0\n",
       "4      0.32924  -4.45520    4.5718 -0.98880      0\n",
       "...        ...       ...       ...      ...    ...\n",
       "1367   0.40614   1.34920   -1.4501 -0.55949      1\n",
       "1368  -1.38870  -4.87730    6.4774  0.34179      1\n",
       "1369  -3.75030 -13.45860   17.5932 -2.77710      1\n",
       "1370  -3.56370  -8.38270   12.3930 -1.28230      1\n",
       "1371  -2.54190  -0.65804    2.6842  1.19520      1\n",
       "\n",
       "[1372 rows x 5 columns]"
      ]
     },
     "execution_count": 14,
     "metadata": {},
     "output_type": "execute_result"
    }
   ],
   "source": [
    "data"
   ]
  },
  {
   "cell_type": "markdown",
   "metadata": {},
   "source": [
    "# Logistic Regression - without regularisation"
   ]
  },
  {
   "cell_type": "code",
   "execution_count": 15,
   "metadata": {},
   "outputs": [],
   "source": [
    "# the independent variables are 'Variance', 'Skewness', 'Curtosis' and 'Entropy'\n",
    "X=data[['Variance', 'Skewness', 'Curtosis' , 'Entropy']].values\n",
    "\n",
    "# the dependent variable is 'Class'\n",
    "y=data[['Class']].values\n",
    "\n",
    "#normalise the data\n",
    "X = (X - np.mean(X, axis=0))/np.std(X,axis=0)\n",
    "\n",
    "#concatenate a columns of ones (to accomodate the bias)\n",
    "ones=np.ones((X.shape[0],1))\n",
    "X=np.concatenate((ones,X),axis=1) \n",
    "\n",
    "\n",
    "#different weight initialisations can be tried:\n",
    "\n",
    "#1. initialise weights to zeroes\n",
    "#theta=np.zeros((X.shape[1],1))\n",
    "\n",
    "#2. gaussian\n",
    "theta=np.random.randn(X.shape[1],1)\n",
    "\n",
    "#3. uniform\n",
    "#theta=np.random.uniform(-10,10,(X.shape[1],1))\n",
    "\n",
    "\n",
    "#split the data into training and testing data\n",
    "X_train, X_test, y_train, y_test = train_test_split(X, y, test_size=0.2,random_state=25)"
   ]
  },
  {
   "cell_type": "code",
   "execution_count": 16,
   "metadata": {},
   "outputs": [],
   "source": [
    "learning_rate=0.8\n",
    "iterations=1500\n",
    "\n",
    "#gradient descent without regularisation\n",
    "theta,cost_history = gradient_descent(X_train,y_train,theta,learning_rate,iterations)"
   ]
  },
  {
   "cell_type": "code",
   "execution_count": 17,
   "metadata": {},
   "outputs": [
    {
     "data": {
      "text/plain": [
       "array([1.66737636, 1.21006561, 0.84893615, ..., 0.03565145, 0.03564611,\n",
       "       0.03564077])"
      ]
     },
     "execution_count": 17,
     "metadata": {},
     "output_type": "execute_result"
    }
   ],
   "source": [
    "cost_history"
   ]
  },
  {
   "cell_type": "code",
   "execution_count": 18,
   "metadata": {},
   "outputs": [
    {
     "data": {
      "text/plain": [
       "[<matplotlib.lines.Line2D at 0x1a22eaa0d0>]"
      ]
     },
     "execution_count": 18,
     "metadata": {},
     "output_type": "execute_result"
    },
    {
     "data": {
      "image/png": "[encoded data removed]",
      "text/plain": [
       "<Figure size 432x288 with 1 Axes>"
      ]
     },
     "metadata": {
      "needs_background": "light"
     },
     "output_type": "display_data"
    }
   ],
   "source": [
    "plt.title('Weights = normal, LR = 0.8 , itr = 1500')\n",
    "plt.plot(list(range(iterations)), cost_history, '-r') #plot the cost function. "
   ]
  },
  {
   "cell_type": "code",
   "execution_count": 19,
   "metadata": {},
   "outputs": [
    {
     "data": {
      "text/plain": [
       "array([[-2.29962726],\n",
       "       [-6.45186158],\n",
       "       [-6.71484738],\n",
       "       [-6.23766221],\n",
       "       [ 0.26974827]])"
      ]
     },
     "execution_count": 19,
     "metadata": {},
     "output_type": "execute_result"
    }
   ],
   "source": [
    "theta"
   ]
  },
  {
   "cell_type": "code",
   "execution_count": 20,
   "metadata": {},
   "outputs": [
    {
     "name": "stdout",
     "output_type": "stream",
     "text": [
      "accuracy: 0.9890909090909091\n",
      "precision: 0.9767441860465116\n",
      "recall: 1.0\n",
      "f score: 0.988235294117647\n"
     ]
    }
   ],
   "source": [
    "y_predicted = predict(X_test,theta)\n",
    "print(\"accuracy:\" , accuracy(y_test , y_predicted))\n",
    "print(\"precision:\",precision(y_test , y_predicted))\n",
    "print(\"recall:\",recall(y_test , y_predicted))\n",
    "print(\"f score:\",f_score(y_test , y_predicted))"
   ]
  },
  {
   "cell_type": "markdown",
   "metadata": {},
   "source": [
    "# Logistic Regression - with L1 regularisation"
   ]
  },
  {
   "cell_type": "code",
   "execution_count": 21,
   "metadata": {},
   "outputs": [],
   "source": [
    "#different weight initialisations can be tried:\n",
    "\n",
    "#1. initialise weights to zeroes\n",
    "#theta=np.zeros((X.shape[1],1))\n",
    "\n",
    "#2. gaussian\n",
    "theta=np.random.randn(X.shape[1],1)\n",
    "\n",
    "#3. uniform\n",
    "#theta=np.random.uniform(-10,10,(X.shape[1],1))\n",
    "\n",
    "#getting better results with lambda value close to 0\n",
    "iterations=4500\n",
    "learning_rate=0.04\n",
    "\n",
    "theta_1,cost_history_1 = gradient_descent_regularisation(X_train,y_train,theta,learning_rate,iterations,lambda_=0.04,norm='L1')\n",
    "\n",
    "\n",
    "#"
   ]
  },
  {
   "cell_type": "code",
   "execution_count": 22,
   "metadata": {},
   "outputs": [
    {
     "data": {
      "text/plain": [
       "array([1.1034945 , 1.08851426, 1.07369582, ..., 0.38469981, 0.38473135,\n",
       "       0.38472927])"
      ]
     },
     "execution_count": 22,
     "metadata": {},
     "output_type": "execute_result"
    }
   ],
   "source": [
    "cost_history_1\n"
   ]
  },
  {
   "cell_type": "code",
   "execution_count": 23,
   "metadata": {},
   "outputs": [
    {
     "data": {
      "text/plain": [
       "[<matplotlib.lines.Line2D at 0x1a22dfa250>]"
      ]
     },
     "execution_count": 23,
     "metadata": {},
     "output_type": "execute_result"
    },
    {
     "data": {
      "image/png": "[encoded data removed]",
      "text/plain": [
       "<Figure size 432x288 with 1 Axes>"
      ]
     },
     "metadata": {
      "needs_background": "light"
     },
     "output_type": "display_data"
    }
   ],
   "source": [
    "plt.title('L1 reg, lambda = 0.005, LR=1.5, itr =1500')\n",
    "plt.plot(list(range(iterations)), cost_history_1, '-r') #plot the cost function. "
   ]
  },
  {
   "cell_type": "code",
   "execution_count": 24,
   "metadata": {},
   "outputs": [
    {
     "data": {
      "text/plain": [
       "array([[-7.15492571e-02],\n",
       "       [-2.05221893e+00],\n",
       "       [-1.42428452e+00],\n",
       "       [-1.05048421e+00],\n",
       "       [ 1.44240104e-03]])"
      ]
     },
     "execution_count": 24,
     "metadata": {},
     "output_type": "execute_result"
    }
   ],
   "source": [
    "theta_1"
   ]
  },
  {
   "cell_type": "code",
   "execution_count": 25,
   "metadata": {},
   "outputs": [
    {
     "name": "stdout",
     "output_type": "stream",
     "text": [
      "accuracy: 0.96\n",
      "precision: 0.9259259259259259\n",
      "recall: 0.9920634920634921\n",
      "f score: 0.9578544061302682\n"
     ]
    }
   ],
   "source": [
    "\n",
    "y_predicted_1 = predict(X_test,theta_1)\n",
    "print(\"accuracy:\" , accuracy(y_test , y_predicted_1))\n",
    "print(\"precision:\",precision(y_test , y_predicted_1))\n",
    "print(\"recall:\",recall(y_test , y_predicted_1))\n",
    "print(\"f score:\",f_score(y_test , y_predicted_1))"
   ]
  },
  {
   "cell_type": "markdown",
   "metadata": {},
   "source": [
    "# Logistic Regression - with L2 regularisation"
   ]
  },
  {
   "cell_type": "code",
   "execution_count": 26,
   "metadata": {},
   "outputs": [],
   "source": [
    "#different weight initialisations can be tried:\n",
    "\n",
    "#1. initialise weights to zeroes\n",
    "#theta=np.zeros((X.shape[1],1))\n",
    "\n",
    "#2. gaussian\n",
    "theta=np.random.randn(X.shape[1],1)\n",
    "\n",
    "#3. uniform\n",
    "#theta=np.random.uniform(-10,10,(X.shape[1],1))\n",
    "\n",
    "\n",
    "iterations=5500\n",
    "learning_rate=0.04\n",
    "\n",
    "\n",
    "theta_2,cost_history_2 = gradient_descent_regularisation(X_train,y_train,theta,learning_rate,iterations,lambda_=0.0005,norm='L2')\n",
    "\n",
    "#"
   ]
  },
  {
   "cell_type": "code",
   "execution_count": 27,
   "metadata": {},
   "outputs": [
    {
     "data": {
      "text/plain": [
       "array([1.19512393, 1.17903351, 1.163203  , ..., 0.07344033, 0.07343774,\n",
       "       0.07343516])"
      ]
     },
     "execution_count": 27,
     "metadata": {},
     "output_type": "execute_result"
    }
   ],
   "source": [
    "cost_history_2"
   ]
  },
  {
   "cell_type": "code",
   "execution_count": 28,
   "metadata": {},
   "outputs": [
    {
     "data": {
      "text/plain": [
       "[<matplotlib.lines.Line2D at 0x1a23821c90>]"
      ]
     },
     "execution_count": 28,
     "metadata": {},
     "output_type": "execute_result"
    },
    {
     "data": {
      "image/png": "[encoded data removed]",
      "text/plain": [
       "<Figure size 432x288 with 1 Axes>"
      ]
     },
     "metadata": {
      "needs_background": "light"
     },
     "output_type": "display_data"
    }
   ],
   "source": [
    "plt.plot(list(range(iterations)), cost_history_2, '-r') #plot the cost function. "
   ]
  },
  {
   "cell_type": "code",
   "execution_count": 29,
   "metadata": {},
   "outputs": [
    {
     "data": {
      "text/plain": [
       "array([[-0.97749224],\n",
       "       [-4.15519159],\n",
       "       [-3.76333521],\n",
       "       [-3.56963936],\n",
       "       [ 0.32081558]])"
      ]
     },
     "execution_count": 29,
     "metadata": {},
     "output_type": "execute_result"
    }
   ],
   "source": [
    "theta_2"
   ]
  },
  {
   "cell_type": "code",
   "execution_count": 30,
   "metadata": {},
   "outputs": [
    {
     "name": "stdout",
     "output_type": "stream",
     "text": [
      "0.9818181818181818\n",
      "0.9618320610687023\n",
      "1.0\n",
      "0.9805447470817121\n"
     ]
    }
   ],
   "source": [
    "\n",
    "y_predicted_2 = predict(X_test,theta_2)\n",
    "print(accuracy(y_test , y_predicted_2))\n",
    "print(precision(y_test, y_predicted_2))\n",
    "print(recall(y_test, y_predicted_2))\n",
    "print(f_score(y_test , y_predicted_2))"
   ]
  },
  {
   "cell_type": "code",
   "execution_count": null,
   "metadata": {},
   "outputs": [],
   "source": []
  },
  {
   "cell_type": "code",
   "execution_count": null,
   "metadata": {},
   "outputs": [],
   "source": []
  }
 ],
 "metadata": {
  "kernelspec": {
   "display_name": "Python 3",
   "language": "python",
   "name": "python3"
  },
  "language_info": {
   "codemirror_mode": {
    "name": "ipython",
    "version": 3
   },
   "file_extension": ".py",
   "mimetype": "text/x-python",
   "name": "python",
   "nbconvert_exporter": "python",
   "pygments_lexer": "ipython3",
   "version": "3.7.6"
  }
 },
 "nbformat": 4,
 "nbformat_minor": 2
}
